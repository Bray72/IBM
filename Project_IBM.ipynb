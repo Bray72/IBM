{
  "nbformat": 4,
  "nbformat_minor": 0,
  "metadata": {
    "colab": {
      "provenance": [],
      "authorship_tag": "ABX9TyORrPrmuvBXYBALcl4fkfou",
      "include_colab_link": true
    },
    "kernelspec": {
      "name": "python3",
      "display_name": "Python 3"
    },
    "language_info": {
      "name": "python"
    }
  },
  "cells": [
    {
      "cell_type": "markdown",
      "metadata": {
        "id": "view-in-github",
        "colab_type": "text"
      },
      "source": [
        "<a href=\"https://colab.research.google.com/github/Bray72/IBM/blob/main/Project_IBM.ipynb\" target=\"_parent\"><img src=\"https://colab.research.google.com/assets/colab-badge.svg\" alt=\"Open In Colab\"/></a>"
      ]
    },
    {
      "cell_type": "code",
      "source": [
        "import kagglehub\n",
        "\n",
        "# Download latest version\n",
        "path = kagglehub.dataset_download(\"lakshmi25npathi/imdb-dataset-of-50k-movie-reviews\")\n",
        "\n",
        "print(\"Path to dataset files:\", path)"
      ],
      "metadata": {
        "colab": {
          "base_uri": "https://localhost:8080/"
        },
        "id": "Tp-GALtGrmR-",
        "outputId": "7ae52023-5885-4fc5-c1f3-3a1fdf76fe0d"
      },
      "execution_count": 2,
      "outputs": [
        {
          "output_type": "stream",
          "name": "stdout",
          "text": [
            "Path to dataset files: /kaggle/input/imdb-dataset-of-50k-movie-reviews\n"
          ]
        }
      ]
    },
    {
      "cell_type": "code",
      "source": [
        "# Install library\n",
        "!pip install -q langchain_community replicate pandas matplotlib seaborn\n",
        "\n",
        "# Import\n",
        "import pandas as pd\n",
        "import matplotlib.pyplot as plt\n",
        "import seaborn as sns\n",
        "from langchain_community.llms import Replicate\n",
        "import os\n",
        "from google.colab import userdata\n",
        "\n",
        "# Setup Replicate Granite\n",
        "api_token = userdata.get('api_token')\n",
        "os.environ[\"REPLICATE_API_TOKEN\"] = api_token\n",
        "model = \"ibm-granite/granite-3.2-8b-instruct\"\n",
        "output = Replicate(model=model, replicate_api_token=api_token)\n",
        "\n",
        "# Load dataset\n",
        "csv_path = os.path.join(path, \"IMDB Dataset.csv\")\n",
        "df = pd.read_csv(csv_path)\n"
      ],
      "metadata": {
        "id": "V0tjNWyvrOhw"
      },
      "execution_count": 4,
      "outputs": []
    },
    {
      "cell_type": "code",
      "source": [
        "df['sentiment'].value_counts().plot(kind='bar', title=\"Distribusi Sentimen (Ground Truth)\")\n",
        "plt.show()\n"
      ],
      "metadata": {
        "colab": {
          "base_uri": "https://localhost:8080/",
          "height": 519
        },
        "id": "pO5yaPsxsZu3",
        "outputId": "5f5df8d2-bf34-42aa-86b0-93d27722e7f8"
      },
      "execution_count": 5,
      "outputs": [
        {
          "output_type": "display_data",
          "data": {
            "text/plain": [
              "<Figure size 640x480 with 1 Axes>"
            ],
            "image/png": "[encoded data removed]"
          },
          "metadata": {}
        }
      ]
    },
    {
      "cell_type": "code",
      "source": [
        "reviews = df['review'][:5].tolist()\n",
        "reviews_text = \"\\n\".join([f\"Review {i+1}: {rev}\" for i, rev in enumerate(reviews)])\n",
        "prompt = f\"\"\"\n",
        "Analyze the following movie reviews.\n",
        "Classify each as Positive or Negative, and explain briefly:\n",
        "{reviews_text}\n",
        "\"\"\"\n",
        "response = output.invoke(prompt)\n",
        "print(response)\n"
      ],
      "metadata": {
        "colab": {
          "base_uri": "https://localhost:8080/"
        },
        "id": "uekexm0YsdeI",
        "outputId": "fffaf627-1eb0-4bfd-bf22-cb5250ee5076"
      },
      "execution_count": 6,
      "outputs": [
        {
          "output_type": "stream",
          "name": "stdout",
          "text": [
            "Review 1: Positive\n",
            "This review is positive as the user expresses admiration for the show \"Oz.\" They use words like \"hooked,\" \"brutality,\" \"unflinching scenes,\" and \"hardcore,\" which, while describing intense and graphic content, also convey a sense of respect for the show's authenticity and boldness. The reviewer also mentions developing a \"taste\" for Oz, indicating a growing appreciation for the show's unique qualities.\n",
            "\n",
            "Review 2: Positive\n",
            "This review is positive. The reviewer uses words like \"wonderful,\" \"unassuming,\" \"seamless editing,\" \"masterful production,\" and \"terrificly written and performed piece.\" These positive descriptors and the overall tone of the review indicate a high level of praise for the production.\n",
            "\n",
            "Review 3: Positive\n",
            "This review is positive. The user expresses enjoyment of the movie, calling it a \"light-hearted comedy,\" \"wittier than 'Devil Wears Prada,'\" and \"more interesting than 'Superman.'\" They also appreciate the performances, particularly Scarlett Johansson's, and the film's ability to make them laugh. The overall tone is one of enthusiasm and enjoyment.\n",
            "\n",
            "Review 4: Negative\n",
            "This review is negative. The user uses phrases like \"slower than a soap opera,\" \"meaningless thriller spots,\" and gives the movie a low rating of 3 out of 10. They express dissatisfaction with the film's inability to decide whether it's a thriller or a drama, and their dislike for the Jake character and the zombie element. The negative language and low rating indicate a poor opinion of the movie.\n",
            "\n",
            "Review 5: Positive\n",
            "This review is positive. The reviewer uses words like \"visually stunning,\" \"vivid portrait,\" \"sophisticated luxurious look,\" \"good acting,\" and expresses anticipation for the director's next work. These positive descriptors and the overall tone of the review indicate a high level of praise for the film.\n"
          ]
        }
      ]
    }
  ]
}